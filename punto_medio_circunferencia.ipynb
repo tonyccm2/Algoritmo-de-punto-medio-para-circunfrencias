{
  "nbformat": 4,
  "nbformat_minor": 0,
  "metadata": {
    "colab": {
      "name": "punto medio circunferencia",
      "provenance": [],
      "collapsed_sections": [],
      "include_colab_link": true
    },
    "kernelspec": {
      "name": "python3",
      "display_name": "Python 3"
    }
  },
  "cells": [
    {
      "cell_type": "markdown",
      "metadata": {
        "id": "view-in-github",
        "colab_type": "text"
      },
      "source": [
        "<a href=\"https://colab.research.google.com/github/tonyccm2/Algoritmo-de-punto-medio-para-circunfrencias/blob/master/punto_medio_circunferencia.ipynb\" target=\"_parent\"><img src=\"https://colab.research.google.com/assets/colab-badge.svg\" alt=\"Open In Colab\"/></a>"
      ]
    },
    {
      "cell_type": "code",
      "metadata": {
        "id": "qu_4gQiBdq2z",
        "colab_type": "code",
        "colab": {
          "base_uri": "https://localhost:8080/",
          "height": 282
        },
        "outputId": "7f532535-a450-409d-e2fe-858e61fe3970"
      },
      "source": [
        "#import os, sys\n",
        "from matplotlib.pyplot import imshow\n",
        "#import numpy as np\n",
        "from PIL import Image, ImageDraw\n",
        "\n",
        "\n",
        "from PIL import Image\n",
        "import matplotlib.pyplot as plt\n",
        "\n",
        "def ROUND(a):\n",
        "\treturn int(a + 0.5)\n",
        " \n",
        "def pintar(xc,yc,x,y):\n",
        "  img_draw.point((xc + x , yc + y ),fill='blue')\n",
        "  img_draw.point((xc + x , yc - y ),fill='blue')\n",
        "  img_draw.point((xc - x , yc + y ),fill='blue')\n",
        "  img_draw.point((xc - x , yc - y ),fill='blue')\n",
        "  img_draw.point((xc + y , yc + x ),fill='blue')\n",
        "  img_draw.point((xc + y , yc - x ),fill='blue')\n",
        "  img_draw.point((xc - y , yc + x ),fill='blue')\n",
        "  img_draw.point((xc - y , yc - x ),fill='blue')\n",
        "#dibujar canvas\n",
        "blank_image = Image.new('RGB', (10, 10), 'white')\n",
        "img_draw = ImageDraw.Draw(blank_image)\n",
        "r = 3\n",
        "x = 0\n",
        "y = r\n",
        "yr= r\n",
        "pintar(5,5,x,y)\n",
        "\n",
        "while(x < yr ):\n",
        "  x = x + 1\n",
        "  yr = (r*r - x*x)**(1/2)\n",
        "  y = ROUND(yr)\n",
        "  pintar(5,5,x,y)\n",
        "\n",
        "\n",
        "#guardar la imagen\n",
        "blank_image.save('drawn_image.jpg')\n",
        "\n",
        "# Open your file image using the path\n",
        "img = Image.open('drawn_image.jpg')\n",
        "\n",
        "# Since plt knows how to handle instance of the Image class, just input your loaded image to imshow method\n",
        "plt.imshow(img,origin='lower')"
      ],
      "execution_count": 11,
      "outputs": [
        {
          "output_type": "execute_result",
          "data": {
            "text/plain": [
              "<matplotlib.image.AxesImage at 0x7fd3cfdffba8>"
            ]
          },
          "metadata": {
            "tags": []
          },
          "execution_count": 11
        },
        {
          "output_type": "display_data",
          "data": {
            "image/png": "[encoded data removed]",
            "text/plain": [
              "<Figure size 432x288 with 1 Axes>"
            ]
          },
          "metadata": {
            "tags": [],
            "needs_background": "light"
          }
        }
      ]
    }
  ]
}